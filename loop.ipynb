{
 "cells": [
  {
   "cell_type": "code",
   "execution_count": null,
   "id": "958f9728",
   "metadata": {},
   "outputs": [],
   "source": [
    "lst=[1, 2, 3, 4, 5]\n",
    "for x in lst:\n",
    "    print(x)"
   ]
  },
  {
   "cell_type": "code",
   "execution_count": 1,
   "id": "0b845161",
   "metadata": {},
   "outputs": [
    {
     "name": "stdout",
     "output_type": "stream",
     "text": [
      "Yash\n",
      "Ankur\n"
     ]
    }
   ],
   "source": [
    "dct={\n",
    "    \"name\": [\"Yash\",\"Ankur\"],\n",
    "    \"age\": 21,\n",
    "    \"phone\": 1234567890\n",
    "}\n",
    "for item in dct[\"name\"]:\n",
    "    print(item)"
   ]
  },
  {
   "cell_type": "code",
   "execution_count": null,
   "id": "028773b4",
   "metadata": {},
   "outputs": [
    {
     "name": "stdout",
     "output_type": "stream",
     "text": [
      "name : ['Yash', 'Ankur']\n",
      "age : 21\n",
      "phone : 1234567890\n"
     ]
    }
   ],
   "source": [
    "# while loop\n",
    "x=0\n",
    "while x < 5:\n",
    "    print(x)\n",
    "    x += 1"
   ]
  },
  {
   "cell_type": "code",
   "execution_count": null,
   "id": "28bddfff",
   "metadata": {},
   "outputs": [],
   "source": [
    "for i in range(1, 10):\n",
    "    if x==5:\n",
    "        print(\"x is 5\")\n",
    "        break"
   ]
  },
  {
   "cell_type": "code",
   "execution_count": null,
   "id": "6127c22d",
   "metadata": {},
   "outputs": [],
   "source": [
    "while 0 <= x < 10:\n",
    "    print(x)\n",
    "    if x==5:\n",
    "        break\n",
    "    x += 1"
   ]
  }
 ],
 "metadata": {
  "kernelspec": {
   "display_name": "Python 3",
   "language": "python",
   "name": "python3"
  },
  "language_info": {
   "codemirror_mode": {
    "name": "ipython",
    "version": 3
   },
   "file_extension": ".py",
   "mimetype": "text/x-python",
   "name": "python",
   "nbconvert_exporter": "python",
   "pygments_lexer": "ipython3",
   "version": "3.11.5"
  }
 },
 "nbformat": 4,
 "nbformat_minor": 5
}
