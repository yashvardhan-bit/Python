{
 "cells": [
  {
   "cell_type": "code",
   "execution_count": null,
   "id": "5ce1c33f",
   "metadata": {},
   "outputs": [
    {
     "name": "stdout",
     "output_type": "stream",
     "text": [
      "x is 5 or greater\n"
     ]
    }
   ],
   "source": [
    "#conditional statements\n",
    "# if,else,elif\n",
    "x = 10\n",
    "if x < 5:\n",
    "    print(\"x is less than 5\")\n",
    "elif x>15:\n",
    "    print(\"x is greater than 15\")\n",
    "else:\n",
    "    print(\"x is between 5 and 15\")\n"
   ]
  },
  {
   "cell_type": "code",
   "execution_count": 7,
   "id": "78844616",
   "metadata": {},
   "outputs": [
    {
     "name": "stdout",
     "output_type": "stream",
     "text": [
      "[1, 2, 3, 5, 10]\n"
     ]
    }
   ],
   "source": [
    "x=5\n",
    "if x > 10:\n",
    "    lst=[1, 2, 3,5]\n",
    "    lst.append(x)\n",
    "    print(lst)\n",
    "else:\n",
    "    lst=[1, 2, 3,5]\n",
    "    lst.append(10)\n",
    "    print(lst)\n"
   ]
  },
  {
   "cell_type": "code",
   "execution_count": null,
   "id": "c144c0da",
   "metadata": {},
   "outputs": [
    {
     "name": "stdout",
     "output_type": "stream",
     "text": [
      "Grade A\n"
     ]
    }
   ],
   "source": [
    "a=int(input(\"Enter a number: \"))\n",
    "if a>90:\n",
    "    print(\"Grade A\")\n",
    "elif a in range(80, 86):\n",
    "    print(\"Grade B\")\n",
    "elif a in range(70, 76):\n",
    "    print(\"Grade C\")\n",
    "elif a in range(60, 66):\n",
    "    print(\"Grade D\")\n",
    "elif a<50:\n",
    "    print(\"fail\")"
   ]
  }
 ],
 "metadata": {
  "kernelspec": {
   "display_name": "Python 3",
   "language": "python",
   "name": "python3"
  },
  "language_info": {
   "codemirror_mode": {
    "name": "ipython",
    "version": 3
   },
   "file_extension": ".py",
   "mimetype": "text/x-python",
   "name": "python",
   "nbconvert_exporter": "python",
   "pygments_lexer": "ipython3",
   "version": "3.11.5"
  }
 },
 "nbformat": 4,
 "nbformat_minor": 5
}
