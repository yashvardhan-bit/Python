{
 "cells": [
  {
   "cell_type": "code",
   "execution_count": null,
   "id": "60f35ab3",
   "metadata": {},
   "outputs": [],
   "source": [
    "def add():\n",
    "    a=2\n",
    "    b=3\n",
    "    print(a+b)\n",
    "add()"
   ]
  },
  {
   "cell_type": "code",
   "execution_count": null,
   "id": "efc97226",
   "metadata": {},
   "outputs": [],
   "source": [
    "def add(x,y): #x,y are arguments\n",
    "    print(x+y)\n",
    "    print(x*y)\n",
    "add(2,3) #2,3 are parameters"
   ]
  },
  {
   "cell_type": "code",
   "execution_count": null,
   "id": "27250ce9",
   "metadata": {},
   "outputs": [],
   "source": [
    "def classroom(branch=\"AI\", name=\"Yash\"):\n",
    "    print(f\"name is {name} and branch is {branch}\")\n",
    "classroom(name=\"Ankur\", branch=\"ML\") \n",
    "classroom() # named arguments"
   ]
  },
  {
   "cell_type": "code",
   "execution_count": null,
   "id": "84d43f80",
   "metadata": {},
   "outputs": [],
   "source": [
    "x = 0\n",
    "while x < 5:\n",
    "    if x == 3:\n",
    "        break\n",
    "    print(x)\n",
    "    x += 1"
   ]
  },
  {
   "cell_type": "code",
   "execution_count": null,
   "id": "a9fed7c5",
   "metadata": {},
   "outputs": [],
   "source": [
    "n=5\n",
    "while n>=1:\n",
    "    print(n)\n",
    "    n-=1"
   ]
  },
  {
   "cell_type": "markdown",
   "id": "87763011",
   "metadata": {},
   "source": [
    "..........lambda function............."
   ]
  },
  {
   "cell_type": "code",
   "execution_count": null,
   "id": "f202a120",
   "metadata": {},
   "outputs": [],
   "source": [
    "#lambda function\n",
    "sq=lambda x: x**2\n",
    "print(sq(6))"
   ]
  },
  {
   "cell_type": "code",
   "execution_count": null,
   "id": "23502172",
   "metadata": {},
   "outputs": [],
   "source": [
    "#lambda function with multiple arguments\n",
    "add=lambda x,y: x+y\n",
    "print(add(5,10))"
   ]
  }
 ],
 "metadata": {
  "kernelspec": {
   "display_name": "Python 3",
   "language": "python",
   "name": "python3"
  },
  "language_info": {
   "codemirror_mode": {
    "name": "ipython",
    "version": 3
   },
   "file_extension": ".py",
   "mimetype": "text/x-python",
   "name": "python",
   "nbconvert_exporter": "python",
   "pygments_lexer": "ipython3",
   "version": "3.11.5"
  }
 },
 "nbformat": 4,
 "nbformat_minor": 5
}
