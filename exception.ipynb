{
 "cells": [
  {
   "cell_type": "markdown",
   "id": "e5993ba5",
   "metadata": {},
   "source": [
    "..................exception handling...............\n",
    "\n"
   ]
  },
  {
   "cell_type": "code",
   "execution_count": null,
   "id": "dcc4aaa2",
   "metadata": {},
   "outputs": [],
   "source": [
    "#try: \n",
    "    # block of code\n",
    "#except:\n",
    "#    # handle exception\n",
    "#else:\n",
    "##    # execute if no exception occurs\n",
    "#finally:\n",
    "#    # execute"
   ]
  },
  {
   "cell_type": "code",
   "execution_count": 2,
   "id": "9642583d",
   "metadata": {},
   "outputs": [],
   "source": [
    "try:\n",
    "    pass\n",
    "except:\n",
    "    pass\n",
    "else:\n",
    "    pass\n",
    "finally:\n",
    "    pass"
   ]
  },
  {
   "cell_type": "code",
   "execution_count": 4,
   "id": "b328ff74",
   "metadata": {},
   "outputs": [
    {
     "name": "stdout",
     "output_type": "stream",
     "text": [
      "Error: Invalid input. Please enter a valid number.\n",
      "thank you for using the program.\n"
     ]
    }
   ],
   "source": [
    "try:\n",
    "    num = int(input(\"Enter a number: \"))\n",
    "    result= 10 / num\n",
    "except ZeroDivisionError as e:\n",
    "    print(\"Error: Division by zero is not allowed.\")\n",
    "except ValueError as e:\n",
    "    print(\"Error: Invalid input. Please enter a valid number.\")\n",
    "else:\n",
    "    print(\"No exceptions occurred.\")\n",
    "    print(f\"The result is: {result}\")\n",
    "finally:\n",
    "    print(\"thank you for using the program.\")\n",
    "\n",
    "\n"
   ]
  },
  {
   "cell_type": "code",
   "execution_count": null,
   "id": "4ec235d0",
   "metadata": {},
   "outputs": [],
   "source": []
  }
 ],
 "metadata": {
  "kernelspec": {
   "display_name": "Python 3",
   "language": "python",
   "name": "python3"
  },
  "language_info": {
   "codemirror_mode": {
    "name": "ipython",
    "version": 3
   },
   "file_extension": ".py",
   "mimetype": "text/x-python",
   "name": "python",
   "nbconvert_exporter": "python",
   "pygments_lexer": "ipython3",
   "version": "3.11.5"
  }
 },
 "nbformat": 4,
 "nbformat_minor": 5
}
