{
 "cells": [
  {
   "cell_type": "code",
   "execution_count": 4,
   "id": "5d325ff6",
   "metadata": {},
   "outputs": [
    {
     "name": "stdout",
     "output_type": "stream",
     "text": [
      "Yash\n"
     ]
    }
   ],
   "source": [
    "class Student:\n",
    "    St_name = \"Yash\"\n",
    "st_obj=Student()\n",
    "print(st_obj.St_name)"
   ]
  },
  {
   "cell_type": "code",
   "execution_count": 5,
   "id": "22dc5c5e",
   "metadata": {},
   "outputs": [
    {
     "name": "stdout",
     "output_type": "stream",
     "text": [
      "Yash\n",
      "AI\n",
      "this is info method\n"
     ]
    }
   ],
   "source": [
    "class Student:\n",
    "    def info(self):\n",
    "        name = \"Yash\"\n",
    "        branch= \"AI\"\n",
    "        print(name)\n",
    "        print(branch)\n",
    "        print(\"this is info method\")\n",
    "st_obj = Student()\n",
    "st_obj.info()"
   ]
  },
  {
   "cell_type": "code",
   "execution_count": 6,
   "id": "e2db8f57",
   "metadata": {},
   "outputs": [
    {
     "name": "stdout",
     "output_type": "stream",
     "text": [
      "Yash\n",
      "Ankur\n",
      "Rohan\n"
     ]
    }
   ],
   "source": [
    "#Inheritance in Python\n",
    "class A:\n",
    "    A_name = \"Yash\"\n",
    "class B:\n",
    "    B_name = \"Ankur\"\n",
    "class C(B,A):\n",
    "    C_name = \"Rohan\"\n",
    "obj = C() \n",
    "print(obj.A_name)\n",
    "print(obj.B_name)\n",
    "print(obj.C_name)"
   ]
  },
  {
   "cell_type": "code",
   "execution_count": 7,
   "id": "97a42b2a",
   "metadata": {},
   "outputs": [
    {
     "name": "stdout",
     "output_type": "stream",
     "text": [
      "Yash\n",
      "Ankur\n"
     ]
    },
    {
     "data": {
      "text/plain": [
       "'Rohan'"
      ]
     },
     "execution_count": 7,
     "metadata": {},
     "output_type": "execute_result"
    }
   ],
   "source": [
    "#encapsulation\n",
    "class A:\n",
    "    name= \"Yash\"\n",
    "    _name= \"Ankur\"  #protected variable\n",
    "    __name= \"Rohan\"  #private variable\n",
    "obj=A()\n",
    "print(obj.name)  #public variable\n",
    "print(obj._name)  #protected variable\n",
    "# print(obj.__name)  #private variable (will raise an error)\n",
    "obj._A__name  #accessing private variable using name mangling"
   ]
  },
  {
   "cell_type": "code",
   "execution_count": 8,
   "id": "5b793a53",
   "metadata": {},
   "outputs": [
    {
     "name": "stdout",
     "output_type": "stream",
     "text": [
      "This is class B\n"
     ]
    }
   ],
   "source": [
    "#method overiding\n",
    "class A:\n",
    "    def info(self):\n",
    "        print(\"This is class A\")\n",
    "class B(A):\n",
    "    def info(self):\n",
    "        print(\"This is class B\")\n",
    "obj = B()\n",
    "obj.info()  # This will call the info method of class B, overriding class A's method"
   ]
  },
  {
   "cell_type": "code",
   "execution_count": 9,
   "id": "9221f303",
   "metadata": {},
   "outputs": [
    {
     "name": "stdout",
     "output_type": "stream",
     "text": [
      "Age is Yash\n"
     ]
    }
   ],
   "source": [
    "#method overloading\n",
    "class A:\n",
    "    def info(self,name):\n",
    "        print(f\"Name is {name}\")\n",
    "    def info(self, age):\n",
    "        print(f\"Age is {age}\")\n",
    "obj = A()\n",
    "obj.info(\"Yash\")  # This will call the second info method, as it overrides6"
   ]
  },
  {
   "cell_type": "code",
   "execution_count": 10,
   "id": "c13ffd7d",
   "metadata": {},
   "outputs": [
    {
     "data": {
      "text/plain": [
       "<__main__.LinkedList at 0x15ecef36450>"
      ]
     },
     "execution_count": 10,
     "metadata": {},
     "output_type": "execute_result"
    }
   ],
   "source": [
    "#constructor\n",
    "class LinkedList:\n",
    "    def __init__(self):\n",
    "        pass\n",
    "LinkedList()"
   ]
  },
  {
   "cell_type": "code",
   "execution_count": 11,
   "id": "90fbb6a3",
   "metadata": {},
   "outputs": [],
   "source": [
    "#super() function"
   ]
  },
  {
   "cell_type": "code",
   "execution_count": 13,
   "id": "4bcdc285",
   "metadata": {},
   "outputs": [],
   "source": [
    "class Student:\n",
    "    def __init__(self, name, age):\n",
    "        self.name = name\n",
    "        self.age = age\n",
    "    def display(self):\n",
    "        print(self.name)\n",
    "obj = Student(\"Yash\", 21)"
   ]
  },
  {
   "cell_type": "code",
   "execution_count": 1,
   "id": "a4a24843",
   "metadata": {},
   "outputs": [
    {
     "name": "stdout",
     "output_type": "stream",
     "text": [
      "Name: Yashvardhan Singh, Branch: AI\n"
     ]
    }
   ],
   "source": [
    "name=input(\"Enter your name: \")\n",
    "branch=input(\"Enter your branch: \")\n",
    "class College:  # constructor, inheritance, encapsulation\n",
    "    def __init__(self, name, branch):\n",
    "        self.name = name\n",
    "        self.branch = branch\n",
    "    def display(self):\n",
    "        print(f\"Name: {self.name}, Branch: {self.branch}\")\n",
    "class Account(College):\n",
    "    pass\n",
    "obj = Account(name,branch)\n",
    "obj.display()"
   ]
  },
  {
   "cell_type": "markdown",
   "id": "997aa4f2",
   "metadata": {},
   "source": [
    "..........important topics..............\n",
    "multithreading\n",
    "multiprocessing\n",
    "iteration\n",
    "generator\n",
    "sql lite\n",
    "decorator"
   ]
  }
 ],
 "metadata": {
  "kernelspec": {
   "display_name": "Python 3",
   "language": "python",
   "name": "python3"
  },
  "language_info": {
   "codemirror_mode": {
    "name": "ipython",
    "version": 3
   },
   "file_extension": ".py",
   "mimetype": "text/x-python",
   "name": "python",
   "nbconvert_exporter": "python",
   "pygments_lexer": "ipython3",
   "version": "3.11.5"
  }
 },
 "nbformat": 4,
 "nbformat_minor": 5
}
