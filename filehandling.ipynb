{
 "cells": [
  {
   "cell_type": "markdown",
   "id": "8d8b17bd",
   "metadata": {},
   "source": [
    "| Mode   | Description                                                  |\n",
    "| ------ | ------------------------------------------------------------ |\n",
    "| \"r\"  | Read mode (default), error if file doesn't exist             |\n",
    "| \"w\"  | Write mode, creates a file if not exist, overwrites existing |\n",
    "| \"a\"  | Append mode, adds content to end of file                     |\n",
    "| \"x\"  | Create mode, error if file already exists                    |\n",
    "                                         |"
   ]
  },
  {
   "cell_type": "markdown",
   "id": "7ecb6889",
   "metadata": {},
   "source": [
    "#>>>>>>>>>>>>>>>>>>>>>>>>>>File handling<<<<<<<<<<<<<<<<<<<<<<<<<\n",
    "# File handling is the process of reading and writing files in Python.\n",
    "\n",
    "\n",
    "#modes:\n",
    "#        'r' - Read (default mode)\n",
    "#        'w' - Write (overwrites the file)\n",
    "#        'a' - Append (adds to the end of the file)\n",
    "#        'x' - create (fails if the file exists)"
   ]
  },
  {
   "cell_type": "code",
   "execution_count": 26,
   "id": "13ab0367",
   "metadata": {},
   "outputs": [],
   "source": [
    "file=open('demo.txt','r')\n",
    "file.read()\n",
    "file.close()\n",
    "\n"
   ]
  },
  {
   "cell_type": "code",
   "execution_count": 13,
   "id": "5ae4d2f6",
   "metadata": {},
   "outputs": [],
   "source": [
    "file=open('demo.txt','w')\n",
    "file.write('This is a demo file')\n",
    "file.close()\n",
    "\n"
   ]
  },
  {
   "cell_type": "code",
   "execution_count": null,
   "id": "ea0980f8",
   "metadata": {},
   "outputs": [
    {
     "data": {
      "text/plain": [
       "'a b c d e f g h i j k l m n o p q r s t u v w x y z\\n z y x w v u t s r q p o n m l k j i h g f e d c b a\\n This is a demo file'"
      ]
     },
     "execution_count": 29,
     "metadata": {},
     "output_type": "execute_result"
    }
   ],
   "source": [
    "file=open('demo.txt','r')\n",
    "file.read()\n",
    "file.close()\n"
   ]
  },
  {
   "cell_type": "code",
   "execution_count": null,
   "id": "55d17337",
   "metadata": {},
   "outputs": [
    {
     "data": {
      "text/plain": [
       "'a b c d e f g h i j k l m n o p q r s t u v w x y z\\n z y x w v u t s r q p o n m l k j i h g f e d c b a\\n This is a demo file'"
      ]
     },
     "execution_count": 28,
     "metadata": {},
     "output_type": "execute_result"
    }
   ],
   "source": [
    "file=open('demo.txt','w')\n",
    "file.write('a b c d e f g h i j k l m n o p q r s t u v w x y z\\n z y x w v u t s r q p o n m l k j i h g f e d c b a\\n This is a demo file')\n",
    "file.close()\n",
    "file=open('demo.txt','r')\n",
    "file.read()\n",
    "file.close()"
   ]
  },
  {
   "cell_type": "code",
   "execution_count": null,
   "id": "559d4987",
   "metadata": {},
   "outputs": [],
   "source": [
    "file=open('demo.txt','a')\n",
    "file.write('\\nThis is an appended line')\n",
    "file=open('demo.txt','r')\n",
    "file.read()\n",
    "file.close()\n"
   ]
  },
  {
   "cell_type": "code",
   "execution_count": 45,
   "id": "6b7c25b2",
   "metadata": {},
   "outputs": [],
   "source": [
    "file=open('new2_demo.txt','x')\n",
    "file.write('This is a new demo file')\n",
    "file.close()\n",
    "\n"
   ]
  },
  {
   "cell_type": "code",
   "execution_count": null,
   "id": "51474618",
   "metadata": {},
   "outputs": [
    {
     "data": {
      "text/plain": [
       "'This is a new demo file'"
      ]
     },
     "execution_count": 46,
     "metadata": {},
     "output_type": "execute_result"
    }
   ],
   "source": [
    "file=open('new_demo.txt','r')\n",
    "file.read()\n",
    "file.close()"
   ]
  },
  {
   "cell_type": "code",
   "execution_count": null,
   "id": "c774fb6c",
   "metadata": {},
   "outputs": [
    {
     "data": {
      "text/plain": [
       "'a b c d e f g h i j k l m n o p q r s t u v w x y z\\n'"
      ]
     },
     "execution_count": 62,
     "metadata": {},
     "output_type": "execute_result"
    }
   ],
   "source": [
    "file=open('demo.txt','r')\n",
    "file.readline()# reads the first line\n",
    "file.close()\n",
    "\n"
   ]
  },
  {
   "cell_type": "code",
   "execution_count": 64,
   "id": "6f6e97a2",
   "metadata": {},
   "outputs": [],
   "source": [
    "with open('demo.txt', 'r') as a:\n",
    "    a.read()  # Using 'with' statement for better file handling\n"
   ]
  }
 ],
 "metadata": {
  "kernelspec": {
   "display_name": "Python 3",
   "language": "python",
   "name": "python3"
  },
  "language_info": {
   "codemirror_mode": {
    "name": "ipython",
    "version": 3
   },
   "file_extension": ".py",
   "mimetype": "text/x-python",
   "name": "python",
   "nbconvert_exporter": "python",
   "pygments_lexer": "ipython3",
   "version": "3.11.5"
  }
 },
 "nbformat": 4,
 "nbformat_minor": 5
}
